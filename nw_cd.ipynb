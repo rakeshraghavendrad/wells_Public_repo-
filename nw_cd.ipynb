{
 "cells": [
  {
   "cell_type": "code",
   "execution_count": 3,
   "id": "7f49b11b",
   "metadata": {},
   "outputs": [
    {
     "name": "stdout",
     "output_type": "stream",
     "text": [
      "Requirement already satisfied: jellyfish in /Users/rakeshdevarakonda/anaconda3/lib/python3.11/site-packages (0.9.0)\n",
      "Note: you may need to restart the kernel to use updated packages.\n"
     ]
    }
   ],
   "source": [
    "pip install jellyfish"
   ]
  },
  {
   "cell_type": "code",
   "execution_count": 4,
   "id": "d337bcca",
   "metadata": {},
   "outputs": [],
   "source": [
    "import pandas as pd\n",
    "from sklearn.ensemble import RandomForestClassifier\n",
    "from sklearn.model_selection import train_test_split\n",
    "import jellyfish  # Use jellyfish for Jaro-Winkler similarity\n",
    "\n",
    "# Dummy data\n",
    "db1 = pd.DataFrame({\n",
    "    'First_name': ['John', 'Alice'],\n",
    "    'Second_name': ['A.', 'B.'],\n",
    "    'Third_name': ['Doe', 'Smith'],\n",
    "    'Address': ['123 Main St', '456 Elm St'],\n",
    "    'Email': ['john@example.com', 'alice@example.com'],\n",
    "    'City': ['NY', 'LA'],\n",
    "    'Zip_code': [10001, 90001],\n",
    "    'State_code': ['NY', 'CA']\n",
    "})\n",
    "\n",
    "db2 = pd.DataFrame({\n",
    "    'First_name': ['Johnathan', 'Alice'],\n",
    "    'Second_name': ['A.', 'B.'],\n",
    "    'Third_name': ['Doe', 'Smith'],\n",
    "    'Address': ['123 Main St', '456 Elm St'],\n",
    "    'Email': ['johnathan@example.com', 'alice.smith@example.com'],\n",
    "    'City': ['NY', 'LA'],\n",
    "    'Zip_code': [10001, 90001],\n",
    "    'State_code': ['NY', 'CA']\n",
    "})\n",
    "\n",
    "resolution = pd.DataFrame({'Resolution': ['Profile_matched', 'Profile_notmatched']})\n"
   ]
  },
  {
   "cell_type": "code",
   "execution_count": 5,
   "id": "93ac93fd",
   "metadata": {},
   "outputs": [],
   "source": [
    "# Calculate Jaro-Winkler similarity for fields\n",
    "def calculate_similarity(row1, row2):\n",
    "    return {\n",
    "        'First_name_sim': jellyfish.jaro_winkler(row1['First_name'], row2['First_name']),\n",
    "        'Second_name_sim': jellyfish.jaro_winkler(row1['Second_name'], row2['Second_name']),\n",
    "        'Third_name_sim': jellyfish.jaro_winkler(row1['Third_name'], row2['Third_name']),\n",
    "        'Address_sim': jellyfish.jaro_winkler(row1['Address'], row2['Address']),\n",
    "        'Email_sim': jellyfish.jaro_winkler(row1['Email'], row2['Email']),\n",
    "        'City_sim': jellyfish.jaro_winkler(row1['City'], row2['City']),\n",
    "        'Zip_code_sim': jellyfish.jaro_winkler(str(row1['Zip_code']), str(row2['Zip_code'])),\n",
    "        'State_code_sim': jellyfish.jaro_winkler(row1['State_code'], row2['State_code']),\n",
    "    }\n",
    "\n",
    "similarity_data = [calculate_similarity(db1.iloc[i], db2.iloc[i]) for i in range(len(db1))]\n",
    "similarity_df = pd.DataFrame(similarity_data)"
   ]
  },
  {
   "cell_type": "code",
   "execution_count": 6,
   "id": "e65bab27",
   "metadata": {},
   "outputs": [
    {
     "data": {
      "text/html": [
       "<div>\n",
       "<style scoped>\n",
       "    .dataframe tbody tr th:only-of-type {\n",
       "        vertical-align: middle;\n",
       "    }\n",
       "\n",
       "    .dataframe tbody tr th {\n",
       "        vertical-align: top;\n",
       "    }\n",
       "\n",
       "    .dataframe thead th {\n",
       "        text-align: right;\n",
       "    }\n",
       "</style>\n",
       "<table border=\"1\" class=\"dataframe\">\n",
       "  <thead>\n",
       "    <tr style=\"text-align: right;\">\n",
       "      <th></th>\n",
       "      <th>First_name_sim</th>\n",
       "      <th>Second_name_sim</th>\n",
       "      <th>Third_name_sim</th>\n",
       "      <th>Address_sim</th>\n",
       "      <th>Email_sim</th>\n",
       "      <th>City_sim</th>\n",
       "      <th>Zip_code_sim</th>\n",
       "      <th>State_code_sim</th>\n",
       "    </tr>\n",
       "  </thead>\n",
       "  <tbody>\n",
       "    <tr>\n",
       "      <th>0</th>\n",
       "      <td>0.888889</td>\n",
       "      <td>1.0</td>\n",
       "      <td>1.0</td>\n",
       "      <td>1.0</td>\n",
       "      <td>0.927381</td>\n",
       "      <td>1.0</td>\n",
       "      <td>1.0</td>\n",
       "      <td>1.0</td>\n",
       "    </tr>\n",
       "    <tr>\n",
       "      <th>1</th>\n",
       "      <td>1.000000</td>\n",
       "      <td>1.0</td>\n",
       "      <td>1.0</td>\n",
       "      <td>1.0</td>\n",
       "      <td>0.877238</td>\n",
       "      <td>1.0</td>\n",
       "      <td>1.0</td>\n",
       "      <td>1.0</td>\n",
       "    </tr>\n",
       "  </tbody>\n",
       "</table>\n",
       "</div>"
      ],
      "text/plain": [
       "   First_name_sim  Second_name_sim  Third_name_sim  Address_sim  Email_sim  \\\n",
       "0        0.888889              1.0             1.0          1.0   0.927381   \n",
       "1        1.000000              1.0             1.0          1.0   0.877238   \n",
       "\n",
       "   City_sim  Zip_code_sim  State_code_sim  \n",
       "0       1.0           1.0             1.0  \n",
       "1       1.0           1.0             1.0  "
      ]
     },
     "execution_count": 6,
     "metadata": {},
     "output_type": "execute_result"
    }
   ],
   "source": [
    "similarity_df"
   ]
  },
  {
   "cell_type": "code",
   "execution_count": 7,
   "id": "a2c13307",
   "metadata": {},
   "outputs": [],
   "source": [
    "# Combine similarity scores with the resolution\n",
    "df = pd.concat([similarity_df, resolution], axis=1)"
   ]
  },
  {
   "cell_type": "code",
   "execution_count": 8,
   "id": "a517df68",
   "metadata": {},
   "outputs": [
    {
     "data": {
      "text/html": [
       "<div>\n",
       "<style scoped>\n",
       "    .dataframe tbody tr th:only-of-type {\n",
       "        vertical-align: middle;\n",
       "    }\n",
       "\n",
       "    .dataframe tbody tr th {\n",
       "        vertical-align: top;\n",
       "    }\n",
       "\n",
       "    .dataframe thead th {\n",
       "        text-align: right;\n",
       "    }\n",
       "</style>\n",
       "<table border=\"1\" class=\"dataframe\">\n",
       "  <thead>\n",
       "    <tr style=\"text-align: right;\">\n",
       "      <th></th>\n",
       "      <th>First_name_sim</th>\n",
       "      <th>Second_name_sim</th>\n",
       "      <th>Third_name_sim</th>\n",
       "      <th>Address_sim</th>\n",
       "      <th>Email_sim</th>\n",
       "      <th>City_sim</th>\n",
       "      <th>Zip_code_sim</th>\n",
       "      <th>State_code_sim</th>\n",
       "      <th>Resolution</th>\n",
       "    </tr>\n",
       "  </thead>\n",
       "  <tbody>\n",
       "    <tr>\n",
       "      <th>0</th>\n",
       "      <td>0.888889</td>\n",
       "      <td>1.0</td>\n",
       "      <td>1.0</td>\n",
       "      <td>1.0</td>\n",
       "      <td>0.927381</td>\n",
       "      <td>1.0</td>\n",
       "      <td>1.0</td>\n",
       "      <td>1.0</td>\n",
       "      <td>Profile_matched</td>\n",
       "    </tr>\n",
       "    <tr>\n",
       "      <th>1</th>\n",
       "      <td>1.000000</td>\n",
       "      <td>1.0</td>\n",
       "      <td>1.0</td>\n",
       "      <td>1.0</td>\n",
       "      <td>0.877238</td>\n",
       "      <td>1.0</td>\n",
       "      <td>1.0</td>\n",
       "      <td>1.0</td>\n",
       "      <td>Profile_notmatched</td>\n",
       "    </tr>\n",
       "  </tbody>\n",
       "</table>\n",
       "</div>"
      ],
      "text/plain": [
       "   First_name_sim  Second_name_sim  Third_name_sim  Address_sim  Email_sim  \\\n",
       "0        0.888889              1.0             1.0          1.0   0.927381   \n",
       "1        1.000000              1.0             1.0          1.0   0.877238   \n",
       "\n",
       "   City_sim  Zip_code_sim  State_code_sim          Resolution  \n",
       "0       1.0           1.0             1.0     Profile_matched  \n",
       "1       1.0           1.0             1.0  Profile_notmatched  "
      ]
     },
     "execution_count": 8,
     "metadata": {},
     "output_type": "execute_result"
    }
   ],
   "source": [
    "df"
   ]
  },
  {
   "cell_type": "code",
   "execution_count": 9,
   "id": "39b299bd",
   "metadata": {},
   "outputs": [],
   "source": [
    "# Convert Resolution to a numeric label\n",
    "df['Resolution'] = df['Resolution'].map({'Profile_matched': 1, 'Profile_notmatched': 0})\n"
   ]
  },
  {
   "cell_type": "code",
   "execution_count": 10,
   "id": "8d2ee317",
   "metadata": {},
   "outputs": [
    {
     "data": {
      "text/html": [
       "<div>\n",
       "<style scoped>\n",
       "    .dataframe tbody tr th:only-of-type {\n",
       "        vertical-align: middle;\n",
       "    }\n",
       "\n",
       "    .dataframe tbody tr th {\n",
       "        vertical-align: top;\n",
       "    }\n",
       "\n",
       "    .dataframe thead th {\n",
       "        text-align: right;\n",
       "    }\n",
       "</style>\n",
       "<table border=\"1\" class=\"dataframe\">\n",
       "  <thead>\n",
       "    <tr style=\"text-align: right;\">\n",
       "      <th></th>\n",
       "      <th>First_name_sim</th>\n",
       "      <th>Second_name_sim</th>\n",
       "      <th>Third_name_sim</th>\n",
       "      <th>Address_sim</th>\n",
       "      <th>Email_sim</th>\n",
       "      <th>City_sim</th>\n",
       "      <th>Zip_code_sim</th>\n",
       "      <th>State_code_sim</th>\n",
       "      <th>Resolution</th>\n",
       "    </tr>\n",
       "  </thead>\n",
       "  <tbody>\n",
       "    <tr>\n",
       "      <th>0</th>\n",
       "      <td>0.888889</td>\n",
       "      <td>1.0</td>\n",
       "      <td>1.0</td>\n",
       "      <td>1.0</td>\n",
       "      <td>0.927381</td>\n",
       "      <td>1.0</td>\n",
       "      <td>1.0</td>\n",
       "      <td>1.0</td>\n",
       "      <td>1</td>\n",
       "    </tr>\n",
       "    <tr>\n",
       "      <th>1</th>\n",
       "      <td>1.000000</td>\n",
       "      <td>1.0</td>\n",
       "      <td>1.0</td>\n",
       "      <td>1.0</td>\n",
       "      <td>0.877238</td>\n",
       "      <td>1.0</td>\n",
       "      <td>1.0</td>\n",
       "      <td>1.0</td>\n",
       "      <td>0</td>\n",
       "    </tr>\n",
       "  </tbody>\n",
       "</table>\n",
       "</div>"
      ],
      "text/plain": [
       "   First_name_sim  Second_name_sim  Third_name_sim  Address_sim  Email_sim  \\\n",
       "0        0.888889              1.0             1.0          1.0   0.927381   \n",
       "1        1.000000              1.0             1.0          1.0   0.877238   \n",
       "\n",
       "   City_sim  Zip_code_sim  State_code_sim  Resolution  \n",
       "0       1.0           1.0             1.0           1  \n",
       "1       1.0           1.0             1.0           0  "
      ]
     },
     "execution_count": 10,
     "metadata": {},
     "output_type": "execute_result"
    }
   ],
   "source": [
    "df"
   ]
  },
  {
   "cell_type": "code",
   "execution_count": 11,
   "id": "ce436205",
   "metadata": {},
   "outputs": [],
   "source": [
    "# Train-Test Split\n",
    "X = df.drop(columns='Resolution')\n",
    "y = df['Resolution']\n",
    "X_train, X_test, y_train, y_test = train_test_split(X, y, test_size=0.2, random_state=42)\n"
   ]
  },
  {
   "cell_type": "code",
   "execution_count": 12,
   "id": "bb5c1f36",
   "metadata": {},
   "outputs": [
    {
     "data": {
      "text/html": [
       "<style>#sk-container-id-1 {color: black;background-color: white;}#sk-container-id-1 pre{padding: 0;}#sk-container-id-1 div.sk-toggleable {background-color: white;}#sk-container-id-1 label.sk-toggleable__label {cursor: pointer;display: block;width: 100%;margin-bottom: 0;padding: 0.3em;box-sizing: border-box;text-align: center;}#sk-container-id-1 label.sk-toggleable__label-arrow:before {content: \"▸\";float: left;margin-right: 0.25em;color: #696969;}#sk-container-id-1 label.sk-toggleable__label-arrow:hover:before {color: black;}#sk-container-id-1 div.sk-estimator:hover label.sk-toggleable__label-arrow:before {color: black;}#sk-container-id-1 div.sk-toggleable__content {max-height: 0;max-width: 0;overflow: hidden;text-align: left;background-color: #f0f8ff;}#sk-container-id-1 div.sk-toggleable__content pre {margin: 0.2em;color: black;border-radius: 0.25em;background-color: #f0f8ff;}#sk-container-id-1 input.sk-toggleable__control:checked~div.sk-toggleable__content {max-height: 200px;max-width: 100%;overflow: auto;}#sk-container-id-1 input.sk-toggleable__control:checked~label.sk-toggleable__label-arrow:before {content: \"▾\";}#sk-container-id-1 div.sk-estimator input.sk-toggleable__control:checked~label.sk-toggleable__label {background-color: #d4ebff;}#sk-container-id-1 div.sk-label input.sk-toggleable__control:checked~label.sk-toggleable__label {background-color: #d4ebff;}#sk-container-id-1 input.sk-hidden--visually {border: 0;clip: rect(1px 1px 1px 1px);clip: rect(1px, 1px, 1px, 1px);height: 1px;margin: -1px;overflow: hidden;padding: 0;position: absolute;width: 1px;}#sk-container-id-1 div.sk-estimator {font-family: monospace;background-color: #f0f8ff;border: 1px dotted black;border-radius: 0.25em;box-sizing: border-box;margin-bottom: 0.5em;}#sk-container-id-1 div.sk-estimator:hover {background-color: #d4ebff;}#sk-container-id-1 div.sk-parallel-item::after {content: \"\";width: 100%;border-bottom: 1px solid gray;flex-grow: 1;}#sk-container-id-1 div.sk-label:hover label.sk-toggleable__label {background-color: #d4ebff;}#sk-container-id-1 div.sk-serial::before {content: \"\";position: absolute;border-left: 1px solid gray;box-sizing: border-box;top: 0;bottom: 0;left: 50%;z-index: 0;}#sk-container-id-1 div.sk-serial {display: flex;flex-direction: column;align-items: center;background-color: white;padding-right: 0.2em;padding-left: 0.2em;position: relative;}#sk-container-id-1 div.sk-item {position: relative;z-index: 1;}#sk-container-id-1 div.sk-parallel {display: flex;align-items: stretch;justify-content: center;background-color: white;position: relative;}#sk-container-id-1 div.sk-item::before, #sk-container-id-1 div.sk-parallel-item::before {content: \"\";position: absolute;border-left: 1px solid gray;box-sizing: border-box;top: 0;bottom: 0;left: 50%;z-index: -1;}#sk-container-id-1 div.sk-parallel-item {display: flex;flex-direction: column;z-index: 1;position: relative;background-color: white;}#sk-container-id-1 div.sk-parallel-item:first-child::after {align-self: flex-end;width: 50%;}#sk-container-id-1 div.sk-parallel-item:last-child::after {align-self: flex-start;width: 50%;}#sk-container-id-1 div.sk-parallel-item:only-child::after {width: 0;}#sk-container-id-1 div.sk-dashed-wrapped {border: 1px dashed gray;margin: 0 0.4em 0.5em 0.4em;box-sizing: border-box;padding-bottom: 0.4em;background-color: white;}#sk-container-id-1 div.sk-label label {font-family: monospace;font-weight: bold;display: inline-block;line-height: 1.2em;}#sk-container-id-1 div.sk-label-container {text-align: center;}#sk-container-id-1 div.sk-container {/* jupyter's `normalize.less` sets `[hidden] { display: none; }` but bootstrap.min.css set `[hidden] { display: none !important; }` so we also need the `!important` here to be able to override the default hidden behavior on the sphinx rendered scikit-learn.org. See: https://github.com/scikit-learn/scikit-learn/issues/21755 */display: inline-block !important;position: relative;}#sk-container-id-1 div.sk-text-repr-fallback {display: none;}</style><div id=\"sk-container-id-1\" class=\"sk-top-container\"><div class=\"sk-text-repr-fallback\"><pre>RandomForestClassifier(random_state=42)</pre><b>In a Jupyter environment, please rerun this cell to show the HTML representation or trust the notebook. <br />On GitHub, the HTML representation is unable to render, please try loading this page with nbviewer.org.</b></div><div class=\"sk-container\" hidden><div class=\"sk-item\"><div class=\"sk-estimator sk-toggleable\"><input class=\"sk-toggleable__control sk-hidden--visually\" id=\"sk-estimator-id-1\" type=\"checkbox\" checked><label for=\"sk-estimator-id-1\" class=\"sk-toggleable__label sk-toggleable__label-arrow\">RandomForestClassifier</label><div class=\"sk-toggleable__content\"><pre>RandomForestClassifier(random_state=42)</pre></div></div></div></div></div>"
      ],
      "text/plain": [
       "RandomForestClassifier(random_state=42)"
      ]
     },
     "execution_count": 12,
     "metadata": {},
     "output_type": "execute_result"
    }
   ],
   "source": [
    "# Train Random Forest Classifier\n",
    "rf = RandomForestClassifier(random_state=42)\n",
    "rf.fit(X_train, y_train)"
   ]
  },
  {
   "cell_type": "code",
   "execution_count": 16,
   "id": "3c073165",
   "metadata": {},
   "outputs": [
    {
     "data": {
      "text/html": [
       "<div>\n",
       "<style scoped>\n",
       "    .dataframe tbody tr th:only-of-type {\n",
       "        vertical-align: middle;\n",
       "    }\n",
       "\n",
       "    .dataframe tbody tr th {\n",
       "        vertical-align: top;\n",
       "    }\n",
       "\n",
       "    .dataframe thead th {\n",
       "        text-align: right;\n",
       "    }\n",
       "</style>\n",
       "<table border=\"1\" class=\"dataframe\">\n",
       "  <thead>\n",
       "    <tr style=\"text-align: right;\">\n",
       "      <th></th>\n",
       "      <th>First_name_sim</th>\n",
       "      <th>Second_name_sim</th>\n",
       "      <th>Third_name_sim</th>\n",
       "      <th>Address_sim</th>\n",
       "      <th>Email_sim</th>\n",
       "      <th>City_sim</th>\n",
       "      <th>Zip_code_sim</th>\n",
       "      <th>State_code_sim</th>\n",
       "    </tr>\n",
       "  </thead>\n",
       "  <tbody>\n",
       "    <tr>\n",
       "      <th>1</th>\n",
       "      <td>1.0</td>\n",
       "      <td>1.0</td>\n",
       "      <td>1.0</td>\n",
       "      <td>1.0</td>\n",
       "      <td>0.877238</td>\n",
       "      <td>1.0</td>\n",
       "      <td>1.0</td>\n",
       "      <td>1.0</td>\n",
       "    </tr>\n",
       "  </tbody>\n",
       "</table>\n",
       "</div>"
      ],
      "text/plain": [
       "   First_name_sim  Second_name_sim  Third_name_sim  Address_sim  Email_sim  \\\n",
       "1             1.0              1.0             1.0          1.0   0.877238   \n",
       "\n",
       "   City_sim  Zip_code_sim  State_code_sim  \n",
       "1       1.0           1.0             1.0  "
      ]
     },
     "execution_count": 16,
     "metadata": {},
     "output_type": "execute_result"
    }
   ],
   "source": [
    "X_test"
   ]
  },
  {
   "cell_type": "code",
   "execution_count": 13,
   "id": "8977386a",
   "metadata": {},
   "outputs": [
    {
     "data": {
      "text/plain": [
       "array([[1.]])"
      ]
     },
     "execution_count": 13,
     "metadata": {},
     "output_type": "execute_result"
    }
   ],
   "source": [
    "# Predict with probabilities (confidence score)\n",
    "y_pred_proba = rf.predict_proba(X_test)\n",
    "y_pred_proba"
   ]
  },
  {
   "cell_type": "code",
   "execution_count": 17,
   "id": "19def261",
   "metadata": {},
   "outputs": [],
   "source": [
    "# Get feature importance (field-wise probability scores)\n",
    "feature_importances = rf.feature_importances_"
   ]
  },
  {
   "cell_type": "code",
   "execution_count": 18,
   "id": "9e455d88",
   "metadata": {},
   "outputs": [
    {
     "data": {
      "text/plain": [
       "array([0., 0., 0., 0., 0., 0., 0., 0.])"
      ]
     },
     "execution_count": 18,
     "metadata": {},
     "output_type": "execute_result"
    }
   ],
   "source": [
    "feature_importances"
   ]
  },
  {
   "cell_type": "code",
   "execution_count": 19,
   "id": "88d10efc",
   "metadata": {},
   "outputs": [
    {
     "name": "stdout",
     "output_type": "stream",
     "text": [
      "Confidence Scores (Probabilities): [[1.]]\n",
      "Field-wise Probabilities (Feature Importances): [0. 0. 0. 0. 0. 0. 0. 0.]\n"
     ]
    }
   ],
   "source": [
    "# Print results\n",
    "print(\"Confidence Scores (Probabilities):\", y_pred_proba)\n",
    "print(\"Field-wise Probabilities (Feature Importances):\", feature_importances)"
   ]
  },
  {
   "cell_type": "code",
   "execution_count": 31,
   "id": "1abbfcc0",
   "metadata": {},
   "outputs": [],
   "source": [
    "# New entity to be matched from tdb1\n",
    "new_entity = {\n",
    "    'First_name': 'Jonathan',\n",
    "    'Second_name': 'A.',\n",
    "    'Third_name': 'Doe',\n",
    "    'Address': '789 Pine St',\n",
    "    'Email': 'jonathan.doe@example.com',\n",
    "    'City': 'NY',\n",
    "    'Zip_code': 10002,\n",
    "    'State_code': 'NY'\n",
    "}\n",
    "\n",
    "# tdb2 entity to compare with\n",
    "tdb2_entity = {\n",
    "    'First_name': 'Johnathan',\n",
    "    'Second_name': 'A.',\n",
    "    'Third_name': 'Doe',\n",
    "    'Address': '123 Main St',\n",
    "    'Email': 'johnathan@example.com',\n",
    "    'City': 'NY',\n",
    "    'Zip_code': 10001,\n",
    "    'State_code': 'NY'\n",
    "}\n",
    "\n",
    "tdb2 = pd.DataFrame([tdb2_entity])\n",
    "\n",
    "# Calculate Jaro-Winkler similarity for the new entity and the entity from tdb2\n",
    "new_similarity_scores = {\n",
    "    'First_name_sim': jellyfish.jaro_winkler(new_entity['First_name'], tdb2_entity['First_name']),\n",
    "    'Second_name_sim': jellyfish.jaro_winkler(new_entity['Second_name'], tdb2_entity['Second_name']),\n",
    "    'Third_name_sim': jellyfish.jaro_winkler(new_entity['Third_name'], tdb2_entity['Third_name']),\n",
    "    'Address_sim': jellyfish.jaro_winkler(new_entity['Address'], tdb2_entity['Address']),\n",
    "    'Email_sim': jellyfish.jaro_winkler(new_entity['Email'], tdb2_entity['Email']),\n",
    "    'City_sim': jellyfish.jaro_winkler(new_entity['City'], tdb2_entity['City']),\n",
    "    'Zip_code_sim': jellyfish.jaro_winkler(str(new_entity['Zip_code']), str(tdb2_entity['Zip_code'])),\n",
    "    'State_code_sim': jellyfish.jaro_winkler(new_entity['State_code'], tdb2_entity['State_code']),\n",
    "}\n",
    "\n",
    "# Convert the similarity scores to a DataFrame (similar to how it was during training)\n",
    "new_similarity_df = pd.DataFrame([new_similarity_scores])\n",
    "\n",
    "\n"
   ]
  },
  {
   "cell_type": "code",
   "execution_count": 32,
   "id": "f3fc2969",
   "metadata": {},
   "outputs": [
    {
     "data": {
      "text/html": [
       "<div>\n",
       "<style scoped>\n",
       "    .dataframe tbody tr th:only-of-type {\n",
       "        vertical-align: middle;\n",
       "    }\n",
       "\n",
       "    .dataframe tbody tr th {\n",
       "        vertical-align: top;\n",
       "    }\n",
       "\n",
       "    .dataframe thead th {\n",
       "        text-align: right;\n",
       "    }\n",
       "</style>\n",
       "<table border=\"1\" class=\"dataframe\">\n",
       "  <thead>\n",
       "    <tr style=\"text-align: right;\">\n",
       "      <th></th>\n",
       "      <th>First_name_sim</th>\n",
       "      <th>Second_name_sim</th>\n",
       "      <th>Third_name_sim</th>\n",
       "      <th>Address_sim</th>\n",
       "      <th>Email_sim</th>\n",
       "      <th>City_sim</th>\n",
       "      <th>Zip_code_sim</th>\n",
       "      <th>State_code_sim</th>\n",
       "    </tr>\n",
       "  </thead>\n",
       "  <tbody>\n",
       "    <tr>\n",
       "      <th>0</th>\n",
       "      <td>0.903704</td>\n",
       "      <td>1.0</td>\n",
       "      <td>1.0</td>\n",
       "      <td>0.69697</td>\n",
       "      <td>0.849524</td>\n",
       "      <td>1.0</td>\n",
       "      <td>0.92</td>\n",
       "      <td>1.0</td>\n",
       "    </tr>\n",
       "  </tbody>\n",
       "</table>\n",
       "</div>"
      ],
      "text/plain": [
       "   First_name_sim  Second_name_sim  Third_name_sim  Address_sim  Email_sim  \\\n",
       "0        0.903704              1.0             1.0      0.69697   0.849524   \n",
       "\n",
       "   City_sim  Zip_code_sim  State_code_sim  \n",
       "0       1.0          0.92             1.0  "
      ]
     },
     "execution_count": 32,
     "metadata": {},
     "output_type": "execute_result"
    }
   ],
   "source": [
    "new_similarity_df"
   ]
  },
  {
   "cell_type": "code",
   "execution_count": 33,
   "id": "ede9b984",
   "metadata": {},
   "outputs": [],
   "source": [
    "# Use the trained Random Forest model to predict the match for the new entity\n",
    "new_prediction_proba = rf.predict_proba(new_similarity_df)\n"
   ]
  },
  {
   "cell_type": "code",
   "execution_count": 34,
   "id": "f77ce73b",
   "metadata": {},
   "outputs": [
    {
     "name": "stdout",
     "output_type": "stream",
     "text": [
      "Confidence Score for the new entity match: [1.]\n"
     ]
    }
   ],
   "source": [
    "# Get confidence score for match or not match\n",
    "confidence_score = new_prediction_proba[0]\n",
    "\n",
    "# Print the confidence score\n",
    "print(\"Confidence Score for the new entity match:\", confidence_score)"
   ]
  },
  {
   "cell_type": "code",
   "execution_count": null,
   "id": "83848fc3",
   "metadata": {},
   "outputs": [],
   "source": []
  },
  {
   "cell_type": "code",
   "execution_count": null,
   "id": "63f34716",
   "metadata": {},
   "outputs": [],
   "source": []
  },
  {
   "cell_type": "code",
   "execution_count": null,
   "id": "679f1320",
   "metadata": {},
   "outputs": [],
   "source": []
  },
  {
   "cell_type": "code",
   "execution_count": 35,
   "id": "18a8a1ea",
   "metadata": {},
   "outputs": [
    {
     "name": "stdout",
     "output_type": "stream",
     "text": [
      "           Feature  Importance\n",
      "0   First_name_sim         0.0\n",
      "1  Second_name_sim         0.0\n",
      "2   Third_name_sim         0.0\n",
      "3      Address_sim         0.0\n",
      "4        Email_sim         0.0\n",
      "5         City_sim         0.0\n",
      "6     Zip_code_sim         0.0\n",
      "7   State_code_sim         0.0\n"
     ]
    }
   ],
   "source": [
    "# After training the Random Forest model\n",
    "importances = rf.feature_importances_\n",
    "\n",
    "# Assign feature names to their importance values\n",
    "feature_importance_df = pd.DataFrame({\n",
    "    'Feature': new_similarity_df.columns,\n",
    "    'Importance': importances\n",
    "})\n",
    "\n",
    "# Sort by importance\n",
    "feature_importance_df = feature_importance_df.sort_values(by='Importance', ascending=False)\n",
    "print(feature_importance_df)\n"
   ]
  },
  {
   "cell_type": "code",
   "execution_count": 25,
   "id": "35b1c802",
   "metadata": {},
   "outputs": [
    {
     "data": {
      "text/plain": [
       "<bound method DataFrame.iterrows of   First_name Second_name Third_name      Address                  Email City  \\\n",
       "0  Johnathan          A.        Doe  123 Main St  johnathan@example.com   NY   \n",
       "\n",
       "   Zip_code State_code  \n",
       "0     10001         NY  >"
      ]
     },
     "execution_count": 25,
     "metadata": {},
     "output_type": "execute_result"
    }
   ],
   "source": [
    "tdb2.iterrows"
   ]
  },
  {
   "cell_type": "code",
   "execution_count": null,
   "id": "9b8f9175",
   "metadata": {},
   "outputs": [],
   "source": []
  }
 ],
 "metadata": {
  "kernelspec": {
   "display_name": "Python 3 (ipykernel)",
   "language": "python",
   "name": "python3"
  },
  "language_info": {
   "codemirror_mode": {
    "name": "ipython",
    "version": 3
   },
   "file_extension": ".py",
   "mimetype": "text/x-python",
   "name": "python",
   "nbconvert_exporter": "python",
   "pygments_lexer": "ipython3",
   "version": "3.11.3"
  }
 },
 "nbformat": 4,
 "nbformat_minor": 5
}
